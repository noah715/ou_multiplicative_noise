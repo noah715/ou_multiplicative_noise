{
 "cells": [
  {
   "cell_type": "code",
   "execution_count": 1,
   "metadata": {},
   "outputs": [
    {
     "name": "stderr",
     "output_type": "stream",
     "text": [
      "\u001b[32m\u001b[1m    Updating\u001b[22m\u001b[39m registry at `~/.julia/registries/General`\n",
      "\u001b[32m\u001b[1m   Resolving\u001b[22m\u001b[39m package versions...\n",
      "\u001b[32m\u001b[1m   Installed\u001b[22m\u001b[39m Libffi_jll ─ v3.2.2+1\n",
      "\u001b[32m\u001b[1m  No Changes\u001b[22m\u001b[39m to `~/.julia/environments/v1.6/Project.toml`\n",
      "\u001b[32m\u001b[1m    Updating\u001b[22m\u001b[39m `~/.julia/environments/v1.6/Manifest.toml`\n",
      " \u001b[90m [e9f186c6] \u001b[39m\u001b[93m↑ Libffi_jll v3.2.2+0 ⇒ v3.2.2+1\u001b[39m\n",
      "\u001b[32m\u001b[1mPrecompiling\u001b[22m\u001b[39m project...\n",
      "\u001b[32m  ✓ \u001b[39m\u001b[90mLibffi_jll\u001b[39m\n",
      "\u001b[32m  ✓ \u001b[39m\u001b[90mWayland_jll\u001b[39m\n",
      "\u001b[32m  ✓ \u001b[39m\u001b[90mGlib_jll\u001b[39m\n",
      "\u001b[32m  ✓ \u001b[39m\u001b[90mWayland_protocols_jll\u001b[39m\n",
      "\u001b[32m  ✓ \u001b[39m\u001b[90mxkbcommon_jll\u001b[39m\n",
      "\u001b[32m  ✓ \u001b[39m\u001b[90mCairo_jll\u001b[39m\n",
      "\u001b[32m  ✓ \u001b[39m\u001b[90mQt5Base_jll\u001b[39m\n",
      "\u001b[32m  ✓ \u001b[39m\u001b[90mHarfBuzz_jll\u001b[39m\n",
      "\u001b[32m  ✓ \u001b[39m\u001b[90mlibass_jll\u001b[39m\n",
      "\u001b[32m  ✓ \u001b[39m\u001b[90mFFMPEG_jll\u001b[39m\n",
      "\u001b[32m  ✓ \u001b[39m\u001b[90mFFMPEG\u001b[39m\n",
      "\u001b[32m  ✓ \u001b[39m\u001b[90mGR_jll\u001b[39m\n",
      "\u001b[32m  ✓ \u001b[39m\u001b[90mGR\u001b[39m\n",
      "\u001b[32m  ✓ \u001b[39mPlots\n",
      "\u001b[32m  ✓ \u001b[39mStatsPlots\n",
      "  15 dependencies successfully precompiled in 66 seconds (301 already precompiled)\n",
      "\u001b[32m\u001b[1m   Resolving\u001b[22m\u001b[39m package versions...\n",
      "\u001b[32m\u001b[1m  No Changes\u001b[22m\u001b[39m to `~/.julia/environments/v1.6/Project.toml`\n",
      "\u001b[32m\u001b[1m  No Changes\u001b[22m\u001b[39m to `~/.julia/environments/v1.6/Manifest.toml`\n",
      "\u001b[32m\u001b[1m   Resolving\u001b[22m\u001b[39m package versions...\n",
      "\u001b[32m\u001b[1m  No Changes\u001b[22m\u001b[39m to `~/.julia/environments/v1.6/Project.toml`\n",
      "\u001b[32m\u001b[1m  No Changes\u001b[22m\u001b[39m to `~/.julia/environments/v1.6/Manifest.toml`\n",
      "\u001b[32m\u001b[1m   Resolving\u001b[22m\u001b[39m package versions...\n",
      "\u001b[32m\u001b[1m  No Changes\u001b[22m\u001b[39m to `~/.julia/environments/v1.6/Project.toml`\n",
      "\u001b[32m\u001b[1m  No Changes\u001b[22m\u001b[39m to `~/.julia/environments/v1.6/Manifest.toml`\n",
      "\u001b[32m\u001b[1m   Resolving\u001b[22m\u001b[39m package versions...\n",
      "\u001b[32m\u001b[1m  No Changes\u001b[22m\u001b[39m to `~/.julia/environments/v1.6/Project.toml`\n",
      "\u001b[32m\u001b[1m  No Changes\u001b[22m\u001b[39m to `~/.julia/environments/v1.6/Manifest.toml`\n",
      "\u001b[32m\u001b[1m   Resolving\u001b[22m\u001b[39m package versions...\n",
      "\u001b[32m\u001b[1m  No Changes\u001b[22m\u001b[39m to `~/.julia/environments/v1.6/Project.toml`\n",
      "\u001b[32m\u001b[1m  No Changes\u001b[22m\u001b[39m to `~/.julia/environments/v1.6/Manifest.toml`\n",
      "\u001b[32m\u001b[1m   Resolving\u001b[22m\u001b[39m package versions...\n",
      "\u001b[32m\u001b[1m  No Changes\u001b[22m\u001b[39m to `~/.julia/environments/v1.6/Project.toml`\n",
      "\u001b[32m\u001b[1m  No Changes\u001b[22m\u001b[39m to `~/.julia/environments/v1.6/Manifest.toml`\n",
      "\u001b[32m\u001b[1m   Resolving\u001b[22m\u001b[39m package versions...\n",
      "\u001b[32m\u001b[1m  No Changes\u001b[22m\u001b[39m to `~/.julia/environments/v1.6/Project.toml`\n",
      "\u001b[32m\u001b[1m  No Changes\u001b[22m\u001b[39m to `~/.julia/environments/v1.6/Manifest.toml`\n"
     ]
    }
   ],
   "source": [
    "import Pkg\n",
    "Pkg.add(\"Turing\")\n",
    "Pkg.add(\"DifferentialEquations\")\n",
    "Pkg.add(\"Distributions\")\n",
    "Pkg.add(\"StatsPlots\")\n",
    "Pkg.add(\"Plots\")\n",
    "Pkg.add(\"ReverseDiff\")\n",
    "Pkg.add(\"Memoization\")\n",
    "Pkg.add(\"DelimitedFiles\")"
   ]
  },
  {
   "cell_type": "code",
   "execution_count": 4,
   "metadata": {},
   "outputs": [
    {
     "data": {
      "text/plain": [
       "oupn (generic function with 3 methods)"
      ]
     },
     "execution_count": 4,
     "metadata": {},
     "output_type": "execute_result"
    }
   ],
   "source": [
    "using Turing, ReverseDiff, Memoization\n",
    "Turing.setadbackend(:reversediff)\n",
    "Turing.setrdcache(true)\n",
    "using Distributions\n",
    "using LinearAlgebra\n",
    "\n",
    "# Ornstein-Uhlenbeck process\n",
    "@model ou(rn,T,delta_t) = begin\n",
    "    ampl ~ Uniform(0.0,5.0)\n",
    "    tau ~ Uniform(0.0,5.0)\n",
    "    \n",
    "    b = exp(-delta_t/tau)\n",
    "    \n",
    "    rn[1] ~ Normal(0,sqrt(ampl))\n",
    "    \n",
    "    for i=2:T\n",
    "        rn[i] ~ Normal(rn[i-1]*b,sqrt(ampl*(1-b^2)))\n",
    "    end\n",
    "end\n",
    "\n",
    "# Ornstein-Uhlenbeck process with added Gaussian noise\n",
    "@model oupn(rn,T,delta_t,::Type{R}=Vector{Float64}) where {R} = begin\n",
    "    ampl ~ Uniform(0.0,2.0)\n",
    "    tau ~ Uniform(0.1,2.0)\n",
    "    noise_ampl ~ Uniform(0.0,0.5)\n",
    "    \n",
    "    b = exp(-delta_t/tau)\n",
    "    r = R(undef, T)\n",
    "    \n",
    "    r[1] ~ Normal(0,sqrt(ampl))\n",
    "    \n",
    "    for i=2:T\n",
    "        r[i] ~ Normal(r[i-1]*b,sqrt(ampl*(1-b^2)))\n",
    "    end\n",
    "    rn ~ MvNormal(r,sqrt.(abs.(r)).*noise_ampl)\n",
    "end"
   ]
  },
  {
   "cell_type": "code",
   "execution_count": 34,
   "metadata": {},
   "outputs": [
    {
     "name": "stderr",
     "output_type": "stream",
     "text": [
      "┌ Info: Found initial step size\n",
      "│   ϵ = 0.000390625\n",
      "└ @ Turing.Inference /Users/noahdean/.julia/packages/Turing/uMQmD/src/inference/hmc.jl:188\n",
      "\u001b[32mSampling: 100%|█████████████████████████████████████████| Time: 0:10:15\u001b[39m\n"
     ]
    },
    {
     "name": "stdout",
     "output_type": "stream",
     "text": [
      "630.727553 seconds (153.82 M allocations: 60.374 GiB, 2.38% gc time, 2.40% compilation time)\n"
     ]
    },
    {
     "name": "stderr",
     "output_type": "stream",
     "text": [
      "┌ Info: Found initial step size\n",
      "│   ϵ = 0.000390625\n",
      "└ @ Turing.Inference /Users/noahdean/.julia/packages/Turing/uMQmD/src/inference/hmc.jl:188\n",
      "\u001b[32mSampling: 100%|█████████████████████████████████████████| Time: 0:05:18\u001b[39m\n"
     ]
    },
    {
     "name": "stdout",
     "output_type": "stream",
     "text": [
      "319.404650 seconds (120.11 M allocations: 38.415 GiB, 3.01% gc time)\n"
     ]
    }
   ],
   "source": [
    "using DifferentialEquations\n",
    "using Plots\n",
    "using StatsPlots\n",
    "using Turing, ReverseDiff, Memoization\n",
    "Turing.setadbackend(:reversediff)\n",
    "Turing.setrdcache(true)\n",
    "\n",
    "using Distributions, Random\n",
    "using LinearAlgebra\n",
    "\n",
    "# Sets up ou process, all of these values are held constant\n",
    "μ = 0.0\n",
    "σ = sqrt(2)\n",
    "Θ = 1.0\n",
    "W = OrnsteinUhlenbeckProcess(Θ,μ,σ,0.0,1.0)\n",
    "prob = NoiseProblem(W,(0.0,100.0))\n",
    "\n",
    "# Number of dt values the loop will go through\n",
    "n_dt_vals = 30\n",
    "# This creates a linspace array between 0.05 and 2 with the number of elements that was specified above\n",
    "dt_vals = range(0.05, 2, length = n_dt_vals)\n",
    "\n",
    "# Holds: dt, means the std deviation of ampl, tau, noise_ampl of them in that order\n",
    "parameter_data = zeros(n_dt_vals, 7)\n",
    "\n",
    "# For loop that iterates through each value for dt\n",
    "for i in 1:n_dt_vals\n",
    "    # Sets dt to the correct value and stores it in the array\n",
    "    dt = dt_vals[i]\n",
    "    parameter_data[i, 1] = dt\n",
    "    \n",
    "    # Returns the ou process with this dt value\n",
    "    sol = solve(prob;dt=dt)\n",
    "    \n",
    "    # Stores the true ou data and creates noise\n",
    "    ou_data = sol.u\n",
    "    noise = rand.(Normal.(0,0.2*sqrt.(abs.(ou_data))))\n",
    "    \n",
    "    # Adds the true data and noise together, then samples the distribtution for the parameters\n",
    "    data = ou_data .+ noise\n",
    "    @time chnpn = sample(oupn(data,length(data),dt), NUTS(0.65), 2000)\n",
    "    \n",
    "    parameter_data[i, 2] = mean(chnpn[:ampl][:,1,1])\n",
    "    parameter_data[i, 3] = std(chnpn[:ampl][:,1,1])\n",
    "    parameter_data[i, 4] = mean(chnpn[:tau][:,1,1])\n",
    "    parameter_data[i, 5] = std(chnpn[:tau][:,1,1])\n",
    "    parameter_data[i, 6] = mean(chnpn[:noise_ampl][:,1,1])\n",
    "    parameter_data[i, 7] = std(chnpn[:noise_ampl][:,1,1])\n",
    "end\n",
    "    \n",
    "    \n",
    "using DelimitedFiles\n",
    "    \n",
    "writedlm(\"parameter_data.csv\", parameter_data, \",\")\n",
    "\n",
    "\n"
   ]
  },
  {
   "cell_type": "code",
   "execution_count": null,
   "metadata": {},
   "outputs": [],
   "source": []
  }
 ],
 "metadata": {
  "kernelspec": {
   "display_name": "Julia 1.6.3",
   "language": "julia",
   "name": "julia-1.6"
  },
  "language_info": {
   "file_extension": ".jl",
   "mimetype": "application/julia",
   "name": "julia",
   "version": "1.6.3"
  }
 },
 "nbformat": 4,
 "nbformat_minor": 4
}
